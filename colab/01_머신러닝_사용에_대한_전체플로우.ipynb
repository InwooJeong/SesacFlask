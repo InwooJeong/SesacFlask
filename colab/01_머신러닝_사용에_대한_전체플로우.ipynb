{
  "nbformat": 4,
  "nbformat_minor": 0,
  "metadata": {
    "colab": {
      "provenance": [],
      "toc_visible": true
    },
    "kernelspec": {
      "name": "python3",
      "display_name": "Python 3"
    },
    "language_info": {
      "name": "python"
    }
  },
  "cells": [
    {
      "cell_type": "markdown",
      "source": [
        "# 연구 목표 수립"
      ],
      "metadata": {
        "id": "TXbyilLHUb7X"
      }
    },
    {
      "cell_type": "markdown",
      "source": [
        "- 유사서비스\n",
        "  - 파파고, 구글 번역, 카카오번역...\n",
        "  - **언어감지(머신러닝 파트)**, 기계번역(딥러닝 파트, chatgtp 같은 거대 언어 모델 사용)\n",
        "  - 근거/논리 => 논문에서 이론,수식 등등 가져온다.\n",
        "    - 알파벳(a-z)을 사용하는 언어권에서(영어, 프랑스어, 인도네시아어, 타갈로그어...) 각 문자 사용 빈도에 따라 언어를 구분할 수 있다.\n",
        "- 방법\n",
        "  - 알파벳을 사용하는 국가들의 언어는 알파벳의 개별 빈도를 이용, 구분이 가능\n",
        "  - 이 미세한 차이점들을 머신러닝 기법을 활용하여 학습하고, 이를 통해 예측한다.\n",
        "  - 국가(샘플 4개 국가)\n",
        "    - 영어, 프랑스어, 인도네시아어, 타갈로그어\n",
        "    - 데이터슷 소량만 사용 -> 정확도는 중요하지 않음(설정)\n",
        "  - 말뭉치 필요\n",
        "    - 같은 내용을 설명하는 말뭉치\n",
        "      - 윈도우 설명서\n",
        "    - a-z : 소문자처리, 정규식처리(알파벳만 처리), 빈도처리, 정규화처리\n",
        "    - 정답 : en, fr, id, tl\n",
        "  - 데이터\n",
        "    - a-z : 26 문자\n",
        "    - 정답 : 1개\n",
        "    - (데이터수, 26 + 1)\n",
        "- 난이도 기준\n",
        "  - level 1 :\n",
        "    - 사내 데이터, 제공된 데이터, 공공데이터 포털, 연구기관/대학 제공 데이터, 대회 데이터, ...\n",
        "  - level 2 :\n",
        "    - openApi를 이용\n",
        "    - request\n",
        "  - level3 :\n",
        "    - web scraping\n",
        "    - bs4 / css selector / xpath\n",
        "  - level4 :\n",
        "    - 로그인, 스크롤, 검색, 클릭, 더보기 ... -> 사용자 인터렉션이 필요\n",
        "    - selenium\n",
        "- 자동화\n",
        "  - 윈도우 : 작업스케줄러\n",
        "  - 리눅스 : cron"
      ],
      "metadata": {
        "id": "TDKusCMyVqDF"
      }
    },
    {
      "cell_type": "markdown",
      "source": [
        "# 데이터 수집/획득"
      ],
      "metadata": {
        "id": "hhv3jb3TUcZZ"
      }
    },
    {
      "cell_type": "markdown",
      "source": [
        "# 데이터 준비/전처리"
      ],
      "metadata": {
        "id": "hbJoPG1YUcpi"
      }
    },
    {
      "cell_type": "markdown",
      "source": [
        "# 데이터 분석 - EDA 진행"
      ],
      "metadata": {
        "id": "iobIVQZ_Uc7T"
      }
    },
    {
      "cell_type": "markdown",
      "source": [
        "# 모델 구축 - 머신러닝/딥러닝"
      ],
      "metadata": {
        "id": "ZBe-6MmmUdOr"
      }
    },
    {
      "cell_type": "markdown",
      "source": [
        "# 시스템 구축/통합/모델서빙 - 산출물"
      ],
      "metadata": {
        "id": "eJ6yfRXzUdjp"
      }
    }
  ]
}